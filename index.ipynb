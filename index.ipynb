{
 "cells": [
  {
   "attachments": {},
   "cell_type": "markdown",
   "metadata": {},
   "source": [
    "# 2. Data Understanding\n",
    "> In this stage, the study shall seek to understand the attributes of the data.\n",
    "\n",
    "The Consumer Complaint Database is a compilation of complaints submitted to businesses asking them to address consumer financial goods and services. Complaints are publicized after the business responds and verifies a business relationship with the customer or after 15 days, whichever happens first. The Consumer Complaint Database does not include complaints that have been forwarded to other regulators, such as those regarding depository institutions with less than $10 billion in assets.\n",
    "\n",
    "## 2.1 Data Description"
   ]
  },
  {
   "attachments": {},
   "cell_type": "markdown",
   "metadata": {},
   "source": [
    "## 2.2 Load the Data\n",
    "> In this stage we loaded the data."
   ]
  },
  {
   "cell_type": "code",
   "execution_count": 1,
   "metadata": {},
   "outputs": [],
   "source": [
    "# Loading dependencies\n",
    "import pandas as pd\n",
    "import numpy as np"
   ]
  },
  {
   "cell_type": "code",
   "execution_count": 3,
   "metadata": {},
   "outputs": [
    {
     "name": "stderr",
     "output_type": "stream",
     "text": [
      "c:\\Users\\Teofilo_Ligawa\\anaconda3\\envs\\learn-env\\lib\\site-packages\\IPython\\core\\interactiveshell.py:3145: DtypeWarning: Columns (9,16) have mixed types.Specify dtype option on import or set low_memory=False.\n",
      "  has_raised = await self.run_ast_nodes(code_ast.body, cell_name,\n"
     ]
    },
    {
     "data": {
      "text/html": [
       "<div>\n",
       "<style scoped>\n",
       "    .dataframe tbody tr th:only-of-type {\n",
       "        vertical-align: middle;\n",
       "    }\n",
       "\n",
       "    .dataframe tbody tr th {\n",
       "        vertical-align: top;\n",
       "    }\n",
       "\n",
       "    .dataframe thead th {\n",
       "        text-align: right;\n",
       "    }\n",
       "</style>\n",
       "<table border=\"1\" class=\"dataframe\">\n",
       "  <thead>\n",
       "    <tr style=\"text-align: right;\">\n",
       "      <th></th>\n",
       "      <th>Date received</th>\n",
       "      <th>Product</th>\n",
       "      <th>Sub-product</th>\n",
       "      <th>Issue</th>\n",
       "      <th>Sub-issue</th>\n",
       "      <th>Consumer complaint narrative</th>\n",
       "      <th>Company public response</th>\n",
       "      <th>Company</th>\n",
       "      <th>State</th>\n",
       "      <th>ZIP code</th>\n",
       "      <th>Tags</th>\n",
       "      <th>Consumer consent provided?</th>\n",
       "      <th>Submitted via</th>\n",
       "      <th>Date sent to company</th>\n",
       "      <th>Company response to consumer</th>\n",
       "      <th>Timely response?</th>\n",
       "      <th>Consumer disputed?</th>\n",
       "      <th>Complaint ID</th>\n",
       "    </tr>\n",
       "  </thead>\n",
       "  <tbody>\n",
       "    <tr>\n",
       "      <th>0</th>\n",
       "      <td>2022-12-04</td>\n",
       "      <td>Checking or savings account</td>\n",
       "      <td>Other banking product or service</td>\n",
       "      <td>Problem with a lender or other company chargin...</td>\n",
       "      <td>Transaction was not authorized</td>\n",
       "      <td>NaN</td>\n",
       "      <td>Company has responded to the consumer and the ...</td>\n",
       "      <td>BANK OF AMERICA, NATIONAL ASSOCIATION</td>\n",
       "      <td>RI</td>\n",
       "      <td>2832</td>\n",
       "      <td>NaN</td>\n",
       "      <td>Other</td>\n",
       "      <td>Web</td>\n",
       "      <td>2022-12-04</td>\n",
       "      <td>Closed with explanation</td>\n",
       "      <td>Yes</td>\n",
       "      <td>NaN</td>\n",
       "      <td>6277013</td>\n",
       "    </tr>\n",
       "    <tr>\n",
       "      <th>1</th>\n",
       "      <td>2022-12-09</td>\n",
       "      <td>Credit reporting, credit repair services, or o...</td>\n",
       "      <td>Credit reporting</td>\n",
       "      <td>Problem with a credit reporting company's inve...</td>\n",
       "      <td>Their investigation did not fix an error on yo...</td>\n",
       "      <td>NaN</td>\n",
       "      <td>NaN</td>\n",
       "      <td>EQUIFAX, INC.</td>\n",
       "      <td>TX</td>\n",
       "      <td>79928</td>\n",
       "      <td>NaN</td>\n",
       "      <td>NaN</td>\n",
       "      <td>Web</td>\n",
       "      <td>2022-12-09</td>\n",
       "      <td>In progress</td>\n",
       "      <td>Yes</td>\n",
       "      <td>NaN</td>\n",
       "      <td>6300442</td>\n",
       "    </tr>\n",
       "    <tr>\n",
       "      <th>2</th>\n",
       "      <td>2022-12-09</td>\n",
       "      <td>Credit reporting, credit repair services, or o...</td>\n",
       "      <td>Credit reporting</td>\n",
       "      <td>Improper use of your report</td>\n",
       "      <td>Reporting company used your report improperly</td>\n",
       "      <td>NaN</td>\n",
       "      <td>NaN</td>\n",
       "      <td>EQUIFAX, INC.</td>\n",
       "      <td>GA</td>\n",
       "      <td>30103</td>\n",
       "      <td>NaN</td>\n",
       "      <td>NaN</td>\n",
       "      <td>Web</td>\n",
       "      <td>2022-12-09</td>\n",
       "      <td>In progress</td>\n",
       "      <td>Yes</td>\n",
       "      <td>NaN</td>\n",
       "      <td>6300444</td>\n",
       "    </tr>\n",
       "    <tr>\n",
       "      <th>3</th>\n",
       "      <td>2022-12-09</td>\n",
       "      <td>Credit reporting, credit repair services, or o...</td>\n",
       "      <td>Credit reporting</td>\n",
       "      <td>Problem with a credit reporting company's inve...</td>\n",
       "      <td>Problem with personal statement of dispute</td>\n",
       "      <td>NaN</td>\n",
       "      <td>NaN</td>\n",
       "      <td>EQUIFAX, INC.</td>\n",
       "      <td>PA</td>\n",
       "      <td>19104</td>\n",
       "      <td>NaN</td>\n",
       "      <td>NaN</td>\n",
       "      <td>Web</td>\n",
       "      <td>2022-12-09</td>\n",
       "      <td>In progress</td>\n",
       "      <td>Yes</td>\n",
       "      <td>NaN</td>\n",
       "      <td>6300449</td>\n",
       "    </tr>\n",
       "    <tr>\n",
       "      <th>4</th>\n",
       "      <td>2022-12-04</td>\n",
       "      <td>Credit reporting, credit repair services, or o...</td>\n",
       "      <td>Credit reporting</td>\n",
       "      <td>Improper use of your report</td>\n",
       "      <td>Reporting company used your report improperly</td>\n",
       "      <td>NaN</td>\n",
       "      <td>Company has responded to the consumer and the ...</td>\n",
       "      <td>Experian Information Solutions Inc.</td>\n",
       "      <td>FL</td>\n",
       "      <td>33167</td>\n",
       "      <td>NaN</td>\n",
       "      <td>Other</td>\n",
       "      <td>Web</td>\n",
       "      <td>2022-12-04</td>\n",
       "      <td>Closed with explanation</td>\n",
       "      <td>Yes</td>\n",
       "      <td>NaN</td>\n",
       "      <td>6274454</td>\n",
       "    </tr>\n",
       "  </tbody>\n",
       "</table>\n",
       "</div>"
      ],
      "text/plain": [
       "  Date received                                            Product  \\\n",
       "0    2022-12-04                        Checking or savings account   \n",
       "1    2022-12-09  Credit reporting, credit repair services, or o...   \n",
       "2    2022-12-09  Credit reporting, credit repair services, or o...   \n",
       "3    2022-12-09  Credit reporting, credit repair services, or o...   \n",
       "4    2022-12-04  Credit reporting, credit repair services, or o...   \n",
       "\n",
       "                        Sub-product  \\\n",
       "0  Other banking product or service   \n",
       "1                  Credit reporting   \n",
       "2                  Credit reporting   \n",
       "3                  Credit reporting   \n",
       "4                  Credit reporting   \n",
       "\n",
       "                                               Issue  \\\n",
       "0  Problem with a lender or other company chargin...   \n",
       "1  Problem with a credit reporting company's inve...   \n",
       "2                        Improper use of your report   \n",
       "3  Problem with a credit reporting company's inve...   \n",
       "4                        Improper use of your report   \n",
       "\n",
       "                                           Sub-issue  \\\n",
       "0                     Transaction was not authorized   \n",
       "1  Their investigation did not fix an error on yo...   \n",
       "2      Reporting company used your report improperly   \n",
       "3         Problem with personal statement of dispute   \n",
       "4      Reporting company used your report improperly   \n",
       "\n",
       "  Consumer complaint narrative  \\\n",
       "0                          NaN   \n",
       "1                          NaN   \n",
       "2                          NaN   \n",
       "3                          NaN   \n",
       "4                          NaN   \n",
       "\n",
       "                             Company public response  \\\n",
       "0  Company has responded to the consumer and the ...   \n",
       "1                                                NaN   \n",
       "2                                                NaN   \n",
       "3                                                NaN   \n",
       "4  Company has responded to the consumer and the ...   \n",
       "\n",
       "                                 Company State ZIP code Tags  \\\n",
       "0  BANK OF AMERICA, NATIONAL ASSOCIATION    RI     2832  NaN   \n",
       "1                          EQUIFAX, INC.    TX    79928  NaN   \n",
       "2                          EQUIFAX, INC.    GA    30103  NaN   \n",
       "3                          EQUIFAX, INC.    PA    19104  NaN   \n",
       "4    Experian Information Solutions Inc.    FL    33167  NaN   \n",
       "\n",
       "  Consumer consent provided? Submitted via Date sent to company  \\\n",
       "0                      Other           Web           2022-12-04   \n",
       "1                        NaN           Web           2022-12-09   \n",
       "2                        NaN           Web           2022-12-09   \n",
       "3                        NaN           Web           2022-12-09   \n",
       "4                      Other           Web           2022-12-04   \n",
       "\n",
       "  Company response to consumer Timely response? Consumer disputed?  \\\n",
       "0      Closed with explanation              Yes                NaN   \n",
       "1                  In progress              Yes                NaN   \n",
       "2                  In progress              Yes                NaN   \n",
       "3                  In progress              Yes                NaN   \n",
       "4      Closed with explanation              Yes                NaN   \n",
       "\n",
       "   Complaint ID  \n",
       "0       6277013  \n",
       "1       6300442  \n",
       "2       6300444  \n",
       "3       6300449  \n",
       "4       6274454  "
      ]
     },
     "execution_count": 3,
     "metadata": {},
     "output_type": "execute_result"
    }
   ],
   "source": [
    "# Loading the data\n",
    "data = pd.read_csv('data/complaints.csv')\n",
    "\n",
    "# previewing the data\n",
    "data.head()"
   ]
  },
  {
   "cell_type": "code",
   "execution_count": 4,
   "metadata": {},
   "outputs": [
    {
     "data": {
      "text/html": [
       "<div>\n",
       "<style scoped>\n",
       "    .dataframe tbody tr th:only-of-type {\n",
       "        vertical-align: middle;\n",
       "    }\n",
       "\n",
       "    .dataframe tbody tr th {\n",
       "        vertical-align: top;\n",
       "    }\n",
       "\n",
       "    .dataframe thead th {\n",
       "        text-align: right;\n",
       "    }\n",
       "</style>\n",
       "<table border=\"1\" class=\"dataframe\">\n",
       "  <thead>\n",
       "    <tr style=\"text-align: right;\">\n",
       "      <th></th>\n",
       "      <th>Date received</th>\n",
       "      <th>Product</th>\n",
       "      <th>Sub-product</th>\n",
       "      <th>Issue</th>\n",
       "      <th>Sub-issue</th>\n",
       "      <th>Consumer complaint narrative</th>\n",
       "      <th>Company public response</th>\n",
       "      <th>Company</th>\n",
       "      <th>State</th>\n",
       "      <th>ZIP code</th>\n",
       "      <th>Tags</th>\n",
       "      <th>Consumer consent provided?</th>\n",
       "      <th>Submitted via</th>\n",
       "      <th>Date sent to company</th>\n",
       "      <th>Company response to consumer</th>\n",
       "      <th>Timely response?</th>\n",
       "      <th>Consumer disputed?</th>\n",
       "      <th>Complaint ID</th>\n",
       "    </tr>\n",
       "  </thead>\n",
       "  <tbody>\n",
       "    <tr>\n",
       "      <th>3147565</th>\n",
       "      <td>2017-02-09</td>\n",
       "      <td>Debt collection</td>\n",
       "      <td>I do not know</td>\n",
       "      <td>Cont'd attempts collect debt not owed</td>\n",
       "      <td>Debt resulted from identity theft</td>\n",
       "      <td>I have disputed my debts several times with no...</td>\n",
       "      <td>NaN</td>\n",
       "      <td>Bonneville Billing and Collections</td>\n",
       "      <td>UT</td>\n",
       "      <td>84054</td>\n",
       "      <td>Servicemember</td>\n",
       "      <td>Consent provided</td>\n",
       "      <td>Web</td>\n",
       "      <td>2017-02-09</td>\n",
       "      <td>Closed with explanation</td>\n",
       "      <td>Yes</td>\n",
       "      <td>No</td>\n",
       "      <td>2334969</td>\n",
       "    </tr>\n",
       "    <tr>\n",
       "      <th>3147566</th>\n",
       "      <td>2015-04-29</td>\n",
       "      <td>Mortgage</td>\n",
       "      <td>Conventional fixed mortgage</td>\n",
       "      <td>Loan modification,collection,foreclosure</td>\n",
       "      <td>NaN</td>\n",
       "      <td>My father died in XX/XX/XXXX. Left me his only...</td>\n",
       "      <td>NaN</td>\n",
       "      <td>CITIBANK, N.A.</td>\n",
       "      <td>OK</td>\n",
       "      <td>74066</td>\n",
       "      <td>NaN</td>\n",
       "      <td>Consent provided</td>\n",
       "      <td>Web</td>\n",
       "      <td>2015-04-29</td>\n",
       "      <td>Closed with explanation</td>\n",
       "      <td>Yes</td>\n",
       "      <td>No</td>\n",
       "      <td>1352738</td>\n",
       "    </tr>\n",
       "    <tr>\n",
       "      <th>3147567</th>\n",
       "      <td>2017-03-31</td>\n",
       "      <td>Credit reporting</td>\n",
       "      <td>NaN</td>\n",
       "      <td>Credit reporting company's investigation</td>\n",
       "      <td>No notice of investigation status/result</td>\n",
       "      <td>cfbp i would Like to file a complaint on Exper...</td>\n",
       "      <td>Company has responded to the consumer and the ...</td>\n",
       "      <td>Experian Information Solutions Inc.</td>\n",
       "      <td>MN</td>\n",
       "      <td>55379</td>\n",
       "      <td>NaN</td>\n",
       "      <td>Consent provided</td>\n",
       "      <td>Web</td>\n",
       "      <td>2017-03-31</td>\n",
       "      <td>Closed with non-monetary relief</td>\n",
       "      <td>Yes</td>\n",
       "      <td>Yes</td>\n",
       "      <td>2412926</td>\n",
       "    </tr>\n",
       "    <tr>\n",
       "      <th>3147568</th>\n",
       "      <td>2017-01-16</td>\n",
       "      <td>Credit reporting</td>\n",
       "      <td>NaN</td>\n",
       "      <td>Incorrect information on credit report</td>\n",
       "      <td>Account status</td>\n",
       "      <td>My husband and I are in the middle of an FHA S...</td>\n",
       "      <td>Company has responded to the consumer and the ...</td>\n",
       "      <td>TRANSUNION INTERMEDIATE HOLDINGS, INC.</td>\n",
       "      <td>GA</td>\n",
       "      <td>30215</td>\n",
       "      <td>NaN</td>\n",
       "      <td>Consent provided</td>\n",
       "      <td>Web</td>\n",
       "      <td>2017-01-16</td>\n",
       "      <td>Closed with explanation</td>\n",
       "      <td>Yes</td>\n",
       "      <td>No</td>\n",
       "      <td>2292586</td>\n",
       "    </tr>\n",
       "    <tr>\n",
       "      <th>3147569</th>\n",
       "      <td>2018-03-07</td>\n",
       "      <td>Mortgage</td>\n",
       "      <td>Other type of mortgage</td>\n",
       "      <td>Trouble during payment process</td>\n",
       "      <td>NaN</td>\n",
       "      <td>NaN</td>\n",
       "      <td>Company has responded to the consumer and the ...</td>\n",
       "      <td>WELLS FARGO &amp; COMPANY</td>\n",
       "      <td>CA</td>\n",
       "      <td>91304</td>\n",
       "      <td>NaN</td>\n",
       "      <td>NaN</td>\n",
       "      <td>Referral</td>\n",
       "      <td>2018-03-08</td>\n",
       "      <td>Closed with explanation</td>\n",
       "      <td>Yes</td>\n",
       "      <td>NaN</td>\n",
       "      <td>2837068</td>\n",
       "    </tr>\n",
       "  </tbody>\n",
       "</table>\n",
       "</div>"
      ],
      "text/plain": [
       "        Date received           Product                  Sub-product  \\\n",
       "3147565    2017-02-09   Debt collection                I do not know   \n",
       "3147566    2015-04-29          Mortgage  Conventional fixed mortgage   \n",
       "3147567    2017-03-31  Credit reporting                          NaN   \n",
       "3147568    2017-01-16  Credit reporting                          NaN   \n",
       "3147569    2018-03-07          Mortgage       Other type of mortgage   \n",
       "\n",
       "                                            Issue  \\\n",
       "3147565     Cont'd attempts collect debt not owed   \n",
       "3147566  Loan modification,collection,foreclosure   \n",
       "3147567  Credit reporting company's investigation   \n",
       "3147568    Incorrect information on credit report   \n",
       "3147569            Trouble during payment process   \n",
       "\n",
       "                                        Sub-issue  \\\n",
       "3147565         Debt resulted from identity theft   \n",
       "3147566                                       NaN   \n",
       "3147567  No notice of investigation status/result   \n",
       "3147568                            Account status   \n",
       "3147569                                       NaN   \n",
       "\n",
       "                              Consumer complaint narrative  \\\n",
       "3147565  I have disputed my debts several times with no...   \n",
       "3147566  My father died in XX/XX/XXXX. Left me his only...   \n",
       "3147567  cfbp i would Like to file a complaint on Exper...   \n",
       "3147568  My husband and I are in the middle of an FHA S...   \n",
       "3147569                                                NaN   \n",
       "\n",
       "                                   Company public response  \\\n",
       "3147565                                                NaN   \n",
       "3147566                                                NaN   \n",
       "3147567  Company has responded to the consumer and the ...   \n",
       "3147568  Company has responded to the consumer and the ...   \n",
       "3147569  Company has responded to the consumer and the ...   \n",
       "\n",
       "                                        Company State ZIP code           Tags  \\\n",
       "3147565      Bonneville Billing and Collections    UT    84054  Servicemember   \n",
       "3147566                          CITIBANK, N.A.    OK    74066            NaN   \n",
       "3147567     Experian Information Solutions Inc.    MN    55379            NaN   \n",
       "3147568  TRANSUNION INTERMEDIATE HOLDINGS, INC.    GA    30215            NaN   \n",
       "3147569                   WELLS FARGO & COMPANY    CA    91304            NaN   \n",
       "\n",
       "        Consumer consent provided? Submitted via Date sent to company  \\\n",
       "3147565           Consent provided           Web           2017-02-09   \n",
       "3147566           Consent provided           Web           2015-04-29   \n",
       "3147567           Consent provided           Web           2017-03-31   \n",
       "3147568           Consent provided           Web           2017-01-16   \n",
       "3147569                        NaN      Referral           2018-03-08   \n",
       "\n",
       "            Company response to consumer Timely response? Consumer disputed?  \\\n",
       "3147565          Closed with explanation              Yes                 No   \n",
       "3147566          Closed with explanation              Yes                 No   \n",
       "3147567  Closed with non-monetary relief              Yes                Yes   \n",
       "3147568          Closed with explanation              Yes                 No   \n",
       "3147569          Closed with explanation              Yes                NaN   \n",
       "\n",
       "         Complaint ID  \n",
       "3147565       2334969  \n",
       "3147566       1352738  \n",
       "3147567       2412926  \n",
       "3147568       2292586  \n",
       "3147569       2837068  "
      ]
     },
     "execution_count": 4,
     "metadata": {},
     "output_type": "execute_result"
    }
   ],
   "source": [
    "# Previewing the tail\n",
    "data.tail()"
   ]
  },
  {
   "attachments": {},
   "cell_type": "markdown",
   "metadata": {},
   "source": [
    "## 2.3 Preliminary Data Inspection"
   ]
  },
  {
   "cell_type": "code",
   "execution_count": 37,
   "metadata": {},
   "outputs": [
    {
     "name": "stdout",
     "output_type": "stream",
     "text": [
      "This data has 3147570 rows and 18 columns\n",
      "\n",
      "<class 'pandas.core.frame.DataFrame'>\n",
      "RangeIndex: 3147570 entries, 0 to 3147569\n",
      "Data columns (total 18 columns):\n",
      " #   Column                        Dtype \n",
      "---  ------                        ----- \n",
      " 0   Date received                 object\n",
      " 1   Product                       object\n",
      " 2   Sub-product                   object\n",
      " 3   Issue                         object\n",
      " 4   Sub-issue                     object\n",
      " 5   Consumer complaint narrative  object\n",
      " 6   Company public response       object\n",
      " 7   Company                       object\n",
      " 8   State                         object\n",
      " 9   ZIP code                      object\n",
      " 10  Tags                          object\n",
      " 11  Consumer consent provided?    object\n",
      " 12  Submitted via                 object\n",
      " 13  Date sent to company          object\n",
      " 14  Company response to consumer  object\n",
      " 15  Timely response?              object\n",
      " 16  Consumer disputed?            object\n",
      " 17  Complaint ID                  int64 \n",
      "dtypes: int64(1), object(17)\n",
      "memory usage: 432.3+ MB\n"
     ]
    }
   ],
   "source": [
    "## Checking the data summary\n",
    "\n",
    "# Checking the dimensions of the data\n",
    "print(f\"This data has {data.shape[0]} rows and {data.shape[1]} columns\")\n",
    "print()\n",
    "# summary\n",
    "data.info()"
   ]
  },
  {
   "attachments": {},
   "cell_type": "markdown",
   "metadata": {},
   "source": [
    "### 2.3.1 Observations:\n",
    "* The columns `Date received` and `Date sent to company` have been registered as object which is basic pandas for string yet they should be date_time objects.\n",
    "* Every other data type looks okay.\n",
    "* From the summary above, we could note that the data has 3147570 rows and 18 columns.\n",
    "* There is only one numeric column - `Complaint ID`. This column in unnecessarily integer because it is a unique identifier of the consumer.\n",
    "\n",
    "* The other columns are objects, which is pandas for string."
   ]
  },
  {
   "cell_type": "code",
   "execution_count": 24,
   "metadata": {},
   "outputs": [],
   "source": [
    "# Creating a class to check missing values\n",
    "class understanding(object):\n",
    "    \"\"\" This is a class that checks for missing values\"\"\"\n",
    "    def __init__(self):\n",
    "        pass\n",
    "    \n",
    "    def miss_no(df):\n",
    "        \"\"\" A function that counts the missing values per column\"\"\"\n",
    "        return df.isna().sum()\n",
    "   \n",
    "    def percent_missing(df):\n",
    "        \"\"\" A function that calculates the percentage of the column that is missing\"\"\"\n",
    "        return df.isna().sum() / len(df)\n",
    "    def check_dup(df):\n",
    "        \"\"\" A function that checks for duplicates in the data\"\"\"\n",
    "        return df.duplicated().sum()\n",
    "    \n",
    "    def counts(df, col):\n",
    "        \"\"\" A function that finds the value counts of a column\"\"\"\n",
    "        return df[col].value_counts()\n",
    "    \n",
    "    def num_unique(df, col):\n",
    "        \"\"\"A function that finds the number of unique elements in  a column\"\"\"\n",
    "        return df[col].nunique()\n",
    "    \n",
    "    def get_unique(df, col):\n",
    "        \"\"\" A function that shows the unique values in a column\"\"\"\n",
    "        return df[col].unique()"
   ]
  },
  {
   "cell_type": "code",
   "execution_count": 26,
   "metadata": {},
   "outputs": [
    {
     "data": {
      "text/plain": [
       "Date received                         0\n",
       "Product                               0\n",
       "Sub-product                      235293\n",
       "Issue                                 0\n",
       "Sub-issue                        685381\n",
       "Consumer complaint narrative    2015226\n",
       "Company public response         1774590\n",
       "Company                               0\n",
       "State                             40190\n",
       "ZIP code                          40631\n",
       "Tags                            2792441\n",
       "Consumer consent provided?       826205\n",
       "Submitted via                         0\n",
       "Date sent to company                  0\n",
       "Company response to consumer          4\n",
       "Timely response?                      0\n",
       "Consumer disputed?              2379130\n",
       "Complaint ID                          0\n",
       "dtype: int64"
      ]
     },
     "execution_count": 26,
     "metadata": {},
     "output_type": "execute_result"
    }
   ],
   "source": [
    "# missing values\n",
    "understand = understanding\n",
    "\n",
    "# The number of missing values per column\n",
    "understand.miss_no(data)"
   ]
  },
  {
   "cell_type": "code",
   "execution_count": 27,
   "metadata": {},
   "outputs": [
    {
     "data": {
      "text/plain": [
       "Date received                   0.000000\n",
       "Product                         0.000000\n",
       "Sub-product                     0.074754\n",
       "Issue                           0.000000\n",
       "Sub-issue                       0.217749\n",
       "Consumer complaint narrative    0.640248\n",
       "Company public response         0.563797\n",
       "Company                         0.000000\n",
       "State                           0.012769\n",
       "ZIP code                        0.012909\n",
       "Tags                            0.887174\n",
       "Consumer consent provided?      0.262490\n",
       "Submitted via                   0.000000\n",
       "Date sent to company            0.000000\n",
       "Company response to consumer    0.000001\n",
       "Timely response?                0.000000\n",
       "Consumer disputed?              0.755862\n",
       "Complaint ID                    0.000000\n",
       "dtype: float64"
      ]
     },
     "execution_count": 27,
     "metadata": {},
     "output_type": "execute_result"
    }
   ],
   "source": [
    "# Percentage of missing values per column\n",
    "understand.percent_missing(data)"
   ]
  },
  {
   "attachments": {},
   "cell_type": "markdown",
   "metadata": {},
   "source": [
    "There are a number of missing values in the data. Most notably, the columns with a high percentage of missing values are:\n",
    "* `Consumer complaint narrative` - 64 %.\n",
    "* `Company public response` - 56 %.\n",
    "* `Tags` - 89 %.\n",
    "* `Consumer disputed?` - 76%."
   ]
  },
  {
   "cell_type": "code",
   "execution_count": 28,
   "metadata": {},
   "outputs": [
    {
     "data": {
      "text/plain": [
       "0"
      ]
     },
     "execution_count": 28,
     "metadata": {},
     "output_type": "execute_result"
    }
   ],
   "source": [
    "# The number of duplicated rows in the data\n",
    "understand.check_dup(data)"
   ]
  },
  {
   "attachments": {},
   "cell_type": "markdown",
   "metadata": {},
   "source": [
    "There are no duplicates in the data."
   ]
  },
  {
   "attachments": {},
   "cell_type": "markdown",
   "metadata": {},
   "source": [
    "### 2.3.2 Checking the Prospective Target Variables\n",
    "\n",
    "#### 2.3.2.1 `Consumer  disputed?`"
   ]
  },
  {
   "cell_type": "code",
   "execution_count": 31,
   "metadata": {},
   "outputs": [
    {
     "data": {
      "text/plain": [
       "No     620062\n",
       "Yes    148378\n",
       "Name: Consumer disputed?, dtype: int64"
      ]
     },
     "execution_count": 31,
     "metadata": {},
     "output_type": "execute_result"
    }
   ],
   "source": [
    "# Checking the value counts of the column 'Consumer disputed?'\n",
    "understand.counts(data, 'Consumer disputed?')"
   ]
  },
  {
   "attachments": {},
   "cell_type": "markdown",
   "metadata": {},
   "source": [
    "This is a binary variable\n",
    "\n",
    "The classes seem to be imbalanced with a significant difference in the value counts of the classes."
   ]
  },
  {
   "attachments": {},
   "cell_type": "markdown",
   "metadata": {},
   "source": [
    "#### 2.3.2.2 `Timely response?`"
   ]
  },
  {
   "cell_type": "code",
   "execution_count": 33,
   "metadata": {},
   "outputs": [
    {
     "data": {
      "text/plain": [
       "Yes    3097148\n",
       "No       50422\n",
       "Name: Timely response?, dtype: int64"
      ]
     },
     "execution_count": 33,
     "metadata": {},
     "output_type": "execute_result"
    }
   ],
   "source": [
    "# Checking the value counts of the column 'Timely response?'\n",
    "understand.counts(data, 'Timely response?')"
   ]
  },
  {
   "attachments": {},
   "cell_type": "markdown",
   "metadata": {},
   "source": [
    "This is a binary variable.\n",
    "\n",
    "The classes seem to be imbalanced with a significant difference in the value counts of the classes."
   ]
  },
  {
   "attachments": {},
   "cell_type": "markdown",
   "metadata": {},
   "source": [
    "#### 2.3.2.3 `Company response to consumer`"
   ]
  },
  {
   "cell_type": "code",
   "execution_count": 34,
   "metadata": {},
   "outputs": [
    {
     "data": {
      "text/plain": [
       "Closed with explanation            2429039\n",
       "Closed with non-monetary relief     474084\n",
       "Closed with monetary relief         123817\n",
       "In progress                          70517\n",
       "Closed without relief                17868\n",
       "Closed                               17611\n",
       "Untimely response                     9326\n",
       "Closed with relief                    5304\n",
       "Name: Company response to consumer, dtype: int64"
      ]
     },
     "execution_count": 34,
     "metadata": {},
     "output_type": "execute_result"
    }
   ],
   "source": [
    "# Checking the value counts of the column 'Company response to consumer'\n",
    "understand.counts(data, 'Company response to consumer')"
   ]
  },
  {
   "attachments": {},
   "cell_type": "markdown",
   "metadata": {},
   "source": [
    "This column is a multi class column.\n",
    "\n",
    "The classes seem to be imbalanced with a significant difference in the value counts of the classes."
   ]
  },
  {
   "cell_type": "code",
   "execution_count": 35,
   "metadata": {},
   "outputs": [
    {
     "data": {
      "text/plain": [
       "Web             2649097\n",
       "Referral         237715\n",
       "Phone            147848\n",
       "Postal mail       86339\n",
       "Fax               25660\n",
       "Web Referral        487\n",
       "Email               424\n",
       "Name: Submitted via, dtype: int64"
      ]
     },
     "execution_count": 35,
     "metadata": {},
     "output_type": "execute_result"
    }
   ],
   "source": [
    "# Checking the value counts of the 'Submitted via'\n",
    "understand.counts(data, 'Submitted via')"
   ]
  },
  {
   "attachments": {},
   "cell_type": "markdown",
   "metadata": {},
   "source": [
    "This column is a multi class column.\n",
    "\n",
    "The classes seem to be imbalanced with a significant difference in the value counts of the classes."
   ]
  },
  {
   "attachments": {},
   "cell_type": "markdown",
   "metadata": {},
   "source": [
    "# 3. Data Preparation\n",
    "> In this phase, the data is prepared based on the findings from the data understanding."
   ]
  },
  {
   "cell_type": "code",
   "execution_count": null,
   "metadata": {},
   "outputs": [],
   "source": []
  }
 ],
 "metadata": {
  "kernelspec": {
   "display_name": "learn-env",
   "language": "python",
   "name": "python3"
  },
  "language_info": {
   "codemirror_mode": {
    "name": "ipython",
    "version": 3
   },
   "file_extension": ".py",
   "mimetype": "text/x-python",
   "name": "python",
   "nbconvert_exporter": "python",
   "pygments_lexer": "ipython3",
   "version": "3.8.5 | packaged by conda-forge | (default, Sep 24 2020, 16:20:24) [MSC v.1916 64 bit (AMD64)]"
  },
  "orig_nbformat": 4,
  "vscode": {
   "interpreter": {
    "hash": "0fa7090e1727e2870c3dbf102c28a851b11d162f017b7d53e6152c79c8e038dc"
   }
  }
 },
 "nbformat": 4,
 "nbformat_minor": 2
}
